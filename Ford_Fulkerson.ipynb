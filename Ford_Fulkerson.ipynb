{
  "cells": [
    {
      "cell_type": "markdown",
      "metadata": {
        "id": "view-in-github",
        "colab_type": "text"
      },
      "source": [
        "<a href=\"https://colab.research.google.com/github/LeandroPoletti/projeto-unimar/blob/master/Ford_Fulkerson.ipynb\" target=\"_parent\"><img src=\"https://colab.research.google.com/assets/colab-badge.svg\" alt=\"Open In Colab\"/></a>"
      ]
    },
    {
      "cell_type": "code",
      "source": [
        "\n",
        "class FordFulkerson:\n",
        "    def __init__(self, graph):\n",
        "        self.graph = graph  # Matriz de adjacência que representa as capacidades do grafo\n",
        "        self.num_vertices = len(graph)\n",
        "\n",
        "    def _dfs(self, source, sink, parent):\n",
        "        # Realiza DFS para encontrar um caminho aumentante\n",
        "        visited = [False] * self.num_vertices\n",
        "        stack = [source]\n",
        "        visited[source] = True\n",
        "\n",
        "        while stack:\n",
        "            u = stack.pop()\n",
        "\n",
        "            for v, capacity in enumerate(self.graph[u]):\n",
        "                if not visited[v] and capacity > 0:  # Aresta válida com capacidade residual\n",
        "                    stack.append(v)\n",
        "                    visited[v] = True\n",
        "                    parent[v] = u\n",
        "                    if v == sink:  # Se chegamos ao destino, retorna True\n",
        "                        return True\n",
        "        return False\n",
        "\n",
        "    def ford_fulkerson(self, source, sink):\n",
        "        parent = [-1] * self.num_vertices\n",
        "        max_flow = 0\n",
        "\n",
        "        while self._dfs(source, sink, parent):\n",
        "            # Encontrar a capacidade mínima no caminho aumentante encontrado\n",
        "            path_flow = float('Inf')\n",
        "            s = sink\n",
        "\n",
        "            while s != source:\n",
        "                path_flow = min(path_flow, self.graph[parent[s]][s])\n",
        "                s = parent[s]\n",
        "\n",
        "            # Atualizar as capacidades residuais das arestas e arestas reversas no grafo\n",
        "            v = sink\n",
        "            while v != source:\n",
        "                u = parent[v]\n",
        "                self.graph[u][v] -= path_flow\n",
        "                self.graph[v][u] += path_flow\n",
        "                v = parent[v]\n",
        "\n",
        "            # Adicionar o fluxo do caminho atual ao fluxo total\n",
        "            max_flow += path_flow\n",
        "\n",
        "        return max_flow\n",
        "# Definição do grafo de exemplo\n",
        "graph = [\n",
        "    [0, 16, 13, 0, 0, 0],\n",
        "    [0, 0, 10, 12, 0, 0],\n",
        "    [0, 4, 0, 0, 14, 0],\n",
        "    [0, 0, 9, 0, 0, 20],\n",
        "    [0, 0, 0, 7, 0, 4],\n",
        "    [0, 0, 0, 0, 0, 0]\n",
        "]\n",
        "\n",
        "# Fonte é o vértice 0 e o destino é o vértice 5\n",
        "source = 0\n",
        "sink = 5\n",
        "\n",
        "# Instanciando e aplicando o algoritmo de Ford-Fulkerson\n",
        "ff = FordFulkerson(graph)\n",
        "max_flow = ff.ford_fulkerson(source, sink)\n",
        "print(\"Fluxo máximo: \", max_flow)"
      ],
      "metadata": {
        "id": "PQka8vH9b4_9",
        "outputId": "9d774350-eb5f-4ce6-dd13-b15727898853",
        "colab": {
          "base_uri": "https://localhost:8080/"
        }
      },
      "execution_count": 1,
      "outputs": [
        {
          "output_type": "stream",
          "name": "stdout",
          "text": [
            "Fluxo máximo:  23\n"
          ]
        }
      ]
    }
  ],
  "metadata": {
    "colab": {
      "provenance": [],
      "include_colab_link": true
    },
    "kernelspec": {
      "display_name": "Python 3",
      "name": "python3"
    }
  },
  "nbformat": 4,
  "nbformat_minor": 0
}